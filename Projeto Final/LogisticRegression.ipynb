{
 "cells": [
  {
   "cell_type": "code",
   "execution_count": 32,
   "metadata": {},
   "outputs": [],
   "source": [
    "import pandas as pd\n",
    "import numpy as np\n",
    "import seaborn as sns\n",
    "import matplotlib.pyplot as plt"
   ]
  },
  {
   "cell_type": "code",
   "execution_count": 33,
   "metadata": {},
   "outputs": [],
   "source": [
    "from sklearn.linear_model import LogisticRegression"
   ]
  },
  {
   "cell_type": "code",
   "execution_count": 48,
   "metadata": {},
   "outputs": [],
   "source": [
    "# importando datasets\n",
    "df_train = pd.read_csv(\"portfolio_ok.csv\", index_col='id')\n",
    "df_test  = pd.read_csv(\"marketok.csv\", index_col='id')"
   ]
  },
  {
   "cell_type": "code",
   "execution_count": 49,
   "metadata": {},
   "outputs": [],
   "source": [
    "X_train = df_train.drop('target', axis=1).copy()\n",
    "y_train = np.array(df_train.target)"
   ]
  },
  {
   "cell_type": "markdown",
   "metadata": {},
   "source": [
    "## Regressão Logística"
   ]
  },
  {
   "cell_type": "code",
   "execution_count": 50,
   "metadata": {},
   "outputs": [
    {
     "name": "stderr",
     "output_type": "stream",
     "text": [
      "/home/tiago/.local/lib/python3.7/site-packages/sklearn/linear_model/logistic.py:469: FutureWarning: Default multi_class will be changed to 'auto' in 0.22. Specify the multi_class option to silence this warning.\n",
      "  \"this warning.\", FutureWarning)\n"
     ]
    },
    {
     "data": {
      "text/plain": [
       "LogisticRegression(C=1.0, class_weight=None, dual=False, fit_intercept=True,\n",
       "                   intercept_scaling=1, l1_ratio=None, max_iter=100,\n",
       "                   multi_class='warn', n_jobs=None, penalty='l2',\n",
       "                   random_state=None, solver='liblinear', tol=0.0001, verbose=0,\n",
       "                   warm_start=False)"
      ]
     },
     "execution_count": 50,
     "metadata": {},
     "output_type": "execute_result"
    }
   ],
   "source": [
    "model = LogisticRegression(solver='liblinear')\n",
    "\n",
    "model.fit(X_train, y_train)"
   ]
  },
  {
   "cell_type": "markdown",
   "metadata": {},
   "source": [
    "Analisando resultados do modelo treinado "
   ]
  },
  {
   "cell_type": "code",
   "execution_count": 51,
   "metadata": {},
   "outputs": [],
   "source": [
    "model_result = model.predict_proba(X_train)"
   ]
  },
  {
   "cell_type": "code",
   "execution_count": 52,
   "metadata": {},
   "outputs": [],
   "source": [
    "df_model_result = pd.DataFrame(data=np.round(model_result, 3))\n",
    "df_model_result"
   ]
  },
  {
   "cell_type": "code",
   "execution_count": 56,
   "metadata": {},
   "outputs": [
    {
     "name": "stdout",
     "output_type": "stream",
     "text": [
      "Acurácia do modelo ao aplicar no dataset de treino:\n"
     ]
    },
    {
     "data": {
      "text/plain": [
       "0.8137715179968701"
      ]
     },
     "execution_count": 56,
     "metadata": {},
     "output_type": "execute_result"
    }
   ],
   "source": [
    "df_model_result['target'] = y_train\n",
    "\n",
    "# result: contém qual a maior probabilidade de uma empresa ter fit com portifólio 1, 2, 3 ou 4\n",
    "result = df_model_result.drop('target', axis=1).idxmax(axis=1) == y_train - 1\n",
    "\n",
    "print(\"Acurácia do modelo ao aplicar no dataset de treino:\")\n",
    "sum(result == True) / len(result)"
   ]
  },
  {
   "cell_type": "markdown",
   "metadata": {},
   "source": [
    "Aplicando modelo ao dataset de teste"
   ]
  },
  {
   "cell_type": "code",
   "execution_count": 58,
   "metadata": {},
   "outputs": [],
   "source": [
    "model_test_result = model.predict_proba(df_test)"
   ]
  },
  {
   "cell_type": "code",
   "execution_count": 61,
   "metadata": {
    "scrolled": true
   },
   "outputs": [
    {
     "data": {
      "text/html": [
       "<div>\n",
       "<style scoped>\n",
       "    .dataframe tbody tr th:only-of-type {\n",
       "        vertical-align: middle;\n",
       "    }\n",
       "\n",
       "    .dataframe tbody tr th {\n",
       "        vertical-align: top;\n",
       "    }\n",
       "\n",
       "    .dataframe thead th {\n",
       "        text-align: right;\n",
       "    }\n",
       "</style>\n",
       "<table border=\"1\" class=\"dataframe\">\n",
       "  <thead>\n",
       "    <tr style=\"text-align: right;\">\n",
       "      <th></th>\n",
       "      <th>0</th>\n",
       "      <th>1</th>\n",
       "      <th>2</th>\n",
       "      <th>3</th>\n",
       "    </tr>\n",
       "  </thead>\n",
       "  <tbody>\n",
       "    <tr>\n",
       "      <td>0</td>\n",
       "      <td>0.556</td>\n",
       "      <td>0.422</td>\n",
       "      <td>0.017</td>\n",
       "      <td>0.006</td>\n",
       "    </tr>\n",
       "    <tr>\n",
       "      <td>1</td>\n",
       "      <td>0.764</td>\n",
       "      <td>0.000</td>\n",
       "      <td>0.211</td>\n",
       "      <td>0.025</td>\n",
       "    </tr>\n",
       "    <tr>\n",
       "      <td>2</td>\n",
       "      <td>0.807</td>\n",
       "      <td>0.000</td>\n",
       "      <td>0.141</td>\n",
       "      <td>0.052</td>\n",
       "    </tr>\n",
       "    <tr>\n",
       "      <td>3</td>\n",
       "      <td>0.790</td>\n",
       "      <td>0.000</td>\n",
       "      <td>0.194</td>\n",
       "      <td>0.016</td>\n",
       "    </tr>\n",
       "    <tr>\n",
       "      <td>4</td>\n",
       "      <td>0.763</td>\n",
       "      <td>0.000</td>\n",
       "      <td>0.224</td>\n",
       "      <td>0.013</td>\n",
       "    </tr>\n",
       "    <tr>\n",
       "      <td>...</td>\n",
       "      <td>...</td>\n",
       "      <td>...</td>\n",
       "      <td>...</td>\n",
       "      <td>...</td>\n",
       "    </tr>\n",
       "    <tr>\n",
       "      <td>462293</td>\n",
       "      <td>0.991</td>\n",
       "      <td>0.007</td>\n",
       "      <td>0.001</td>\n",
       "      <td>0.001</td>\n",
       "    </tr>\n",
       "    <tr>\n",
       "      <td>462294</td>\n",
       "      <td>0.933</td>\n",
       "      <td>0.000</td>\n",
       "      <td>0.045</td>\n",
       "      <td>0.021</td>\n",
       "    </tr>\n",
       "    <tr>\n",
       "      <td>462295</td>\n",
       "      <td>0.889</td>\n",
       "      <td>0.002</td>\n",
       "      <td>0.081</td>\n",
       "      <td>0.027</td>\n",
       "    </tr>\n",
       "    <tr>\n",
       "      <td>462296</td>\n",
       "      <td>0.934</td>\n",
       "      <td>0.064</td>\n",
       "      <td>0.001</td>\n",
       "      <td>0.001</td>\n",
       "    </tr>\n",
       "    <tr>\n",
       "      <td>462297</td>\n",
       "      <td>0.840</td>\n",
       "      <td>0.000</td>\n",
       "      <td>0.151</td>\n",
       "      <td>0.009</td>\n",
       "    </tr>\n",
       "  </tbody>\n",
       "</table>\n",
       "<p>462298 rows × 4 columns</p>\n",
       "</div>"
      ],
      "text/plain": [
       "            0      1      2      3\n",
       "0       0.556  0.422  0.017  0.006\n",
       "1       0.764  0.000  0.211  0.025\n",
       "2       0.807  0.000  0.141  0.052\n",
       "3       0.790  0.000  0.194  0.016\n",
       "4       0.763  0.000  0.224  0.013\n",
       "...       ...    ...    ...    ...\n",
       "462293  0.991  0.007  0.001  0.001\n",
       "462294  0.933  0.000  0.045  0.021\n",
       "462295  0.889  0.002  0.081  0.027\n",
       "462296  0.934  0.064  0.001  0.001\n",
       "462297  0.840  0.000  0.151  0.009\n",
       "\n",
       "[462298 rows x 4 columns]"
      ]
     },
     "execution_count": 61,
     "metadata": {},
     "output_type": "execute_result"
    }
   ],
   "source": [
    "df_model_result = pd.DataFrame(data=np.round(model_test_result, 3))\n",
    "df_model_result"
   ]
  },
  {
   "cell_type": "code",
   "execution_count": 68,
   "metadata": {},
   "outputs": [
    {
     "data": {
      "text/plain": [
       "0         1\n",
       "1         1\n",
       "2         1\n",
       "3         1\n",
       "4         1\n",
       "         ..\n",
       "462293    1\n",
       "462294    1\n",
       "462295    1\n",
       "462296    1\n",
       "462297    1\n",
       "Length: 462298, dtype: int64"
      ]
     },
     "execution_count": 68,
     "metadata": {},
     "output_type": "execute_result"
    }
   ],
   "source": [
    "# somando um, pois a previsão inicia com indice zero\n",
    "result = df_model_result.idxmax(axis=1) +1\n",
    "result\n"
   ]
  },
  {
   "cell_type": "markdown",
   "metadata": {},
   "source": [
    "### Resultado final"
   ]
  },
  {
   "cell_type": "code",
   "execution_count": 70,
   "metadata": {},
   "outputs": [
    {
     "data": {
      "text/html": [
       "<div>\n",
       "<style scoped>\n",
       "    .dataframe tbody tr th:only-of-type {\n",
       "        vertical-align: middle;\n",
       "    }\n",
       "\n",
       "    .dataframe tbody tr th {\n",
       "        vertical-align: top;\n",
       "    }\n",
       "\n",
       "    .dataframe thead th {\n",
       "        text-align: right;\n",
       "    }\n",
       "</style>\n",
       "<table border=\"1\" class=\"dataframe\">\n",
       "  <thead>\n",
       "    <tr style=\"text-align: right;\">\n",
       "      <th></th>\n",
       "      <th>target</th>\n",
       "    </tr>\n",
       "    <tr>\n",
       "      <th>id</th>\n",
       "      <th></th>\n",
       "    </tr>\n",
       "  </thead>\n",
       "  <tbody>\n",
       "    <tr>\n",
       "      <td>a6984c3ae395090e3bee8ad63c3758b110de096d5d819583a784a113726db849</td>\n",
       "      <td>NaN</td>\n",
       "    </tr>\n",
       "    <tr>\n",
       "      <td>6178f41ade1365e44bc2c46654c2c8c0eaae27dcb476c47fdef50b33f4f56f05</td>\n",
       "      <td>NaN</td>\n",
       "    </tr>\n",
       "    <tr>\n",
       "      <td>4a7e5069a397f12fdd7fd57111d6dc5d3ba558958efc02edc5147bc2a2535b08</td>\n",
       "      <td>NaN</td>\n",
       "    </tr>\n",
       "    <tr>\n",
       "      <td>3348900fe63216a439d2e5238c79ddd46ede454df7b9d8c24ac33eb21d4b21ef</td>\n",
       "      <td>NaN</td>\n",
       "    </tr>\n",
       "    <tr>\n",
       "      <td>1f9bcabc9d3173c1fe769899e4fac14b053037b953a1e4b102c769f7611ab29f</td>\n",
       "      <td>NaN</td>\n",
       "    </tr>\n",
       "    <tr>\n",
       "      <td>...</td>\n",
       "      <td>...</td>\n",
       "    </tr>\n",
       "    <tr>\n",
       "      <td>469ee5fc984d0bb60aa2f40cda4d003d7c9b963d149ed3bf4c21dfa141c4dde1</td>\n",
       "      <td>NaN</td>\n",
       "    </tr>\n",
       "    <tr>\n",
       "      <td>656f496e7e2fad708f0022d8ad97d2cb9344e839a5f3cb6c5a6575047d41d2a0</td>\n",
       "      <td>NaN</td>\n",
       "    </tr>\n",
       "    <tr>\n",
       "      <td>9b933a5cf2149d1338f00fb459d34a16b9b0f2e8d3e8e1ff859a7a9228bd6cad</td>\n",
       "      <td>NaN</td>\n",
       "    </tr>\n",
       "    <tr>\n",
       "      <td>84db0f17467cf4f02439e01ade57150b6ac59d9dae53edb2f43d68b0e55fb766</td>\n",
       "      <td>NaN</td>\n",
       "    </tr>\n",
       "    <tr>\n",
       "      <td>3d43e934e150b86be1e67524f5ba1018b27da9ef25566d9c0607623ae7f25e3a</td>\n",
       "      <td>NaN</td>\n",
       "    </tr>\n",
       "  </tbody>\n",
       "</table>\n",
       "<p>462298 rows × 1 columns</p>\n",
       "</div>"
      ],
      "text/plain": [
       "                                                    target\n",
       "id                                                        \n",
       "a6984c3ae395090e3bee8ad63c3758b110de096d5d81958...     NaN\n",
       "6178f41ade1365e44bc2c46654c2c8c0eaae27dcb476c47...     NaN\n",
       "4a7e5069a397f12fdd7fd57111d6dc5d3ba558958efc02e...     NaN\n",
       "3348900fe63216a439d2e5238c79ddd46ede454df7b9d8c...     NaN\n",
       "1f9bcabc9d3173c1fe769899e4fac14b053037b953a1e4b...     NaN\n",
       "...                                                    ...\n",
       "469ee5fc984d0bb60aa2f40cda4d003d7c9b963d149ed3b...     NaN\n",
       "656f496e7e2fad708f0022d8ad97d2cb9344e839a5f3cb6...     NaN\n",
       "9b933a5cf2149d1338f00fb459d34a16b9b0f2e8d3e8e1f...     NaN\n",
       "84db0f17467cf4f02439e01ade57150b6ac59d9dae53edb...     NaN\n",
       "3d43e934e150b86be1e67524f5ba1018b27da9ef25566d9...     NaN\n",
       "\n",
       "[462298 rows x 1 columns]"
      ]
     },
     "execution_count": 70,
     "metadata": {},
     "output_type": "execute_result"
    }
   ],
   "source": [
    "final_result = pd.read_csv(\"marketok.csv\", index_col='id', usecols=['id'])\n"
   ]
  },
  {
   "cell_type": "code",
   "execution_count": 71,
   "metadata": {},
   "outputs": [
    {
     "data": {
      "text/html": [
       "<div>\n",
       "<style scoped>\n",
       "    .dataframe tbody tr th:only-of-type {\n",
       "        vertical-align: middle;\n",
       "    }\n",
       "\n",
       "    .dataframe tbody tr th {\n",
       "        vertical-align: top;\n",
       "    }\n",
       "\n",
       "    .dataframe thead th {\n",
       "        text-align: right;\n",
       "    }\n",
       "</style>\n",
       "<table border=\"1\" class=\"dataframe\">\n",
       "  <thead>\n",
       "    <tr style=\"text-align: right;\">\n",
       "      <th></th>\n",
       "      <th>target</th>\n",
       "    </tr>\n",
       "    <tr>\n",
       "      <th>id</th>\n",
       "      <th></th>\n",
       "    </tr>\n",
       "  </thead>\n",
       "  <tbody>\n",
       "    <tr>\n",
       "      <td>a6984c3ae395090e3bee8ad63c3758b110de096d5d819583a784a113726db849</td>\n",
       "      <td>1</td>\n",
       "    </tr>\n",
       "    <tr>\n",
       "      <td>6178f41ade1365e44bc2c46654c2c8c0eaae27dcb476c47fdef50b33f4f56f05</td>\n",
       "      <td>1</td>\n",
       "    </tr>\n",
       "    <tr>\n",
       "      <td>4a7e5069a397f12fdd7fd57111d6dc5d3ba558958efc02edc5147bc2a2535b08</td>\n",
       "      <td>1</td>\n",
       "    </tr>\n",
       "    <tr>\n",
       "      <td>3348900fe63216a439d2e5238c79ddd46ede454df7b9d8c24ac33eb21d4b21ef</td>\n",
       "      <td>1</td>\n",
       "    </tr>\n",
       "    <tr>\n",
       "      <td>1f9bcabc9d3173c1fe769899e4fac14b053037b953a1e4b102c769f7611ab29f</td>\n",
       "      <td>1</td>\n",
       "    </tr>\n",
       "    <tr>\n",
       "      <td>...</td>\n",
       "      <td>...</td>\n",
       "    </tr>\n",
       "    <tr>\n",
       "      <td>469ee5fc984d0bb60aa2f40cda4d003d7c9b963d149ed3bf4c21dfa141c4dde1</td>\n",
       "      <td>1</td>\n",
       "    </tr>\n",
       "    <tr>\n",
       "      <td>656f496e7e2fad708f0022d8ad97d2cb9344e839a5f3cb6c5a6575047d41d2a0</td>\n",
       "      <td>1</td>\n",
       "    </tr>\n",
       "    <tr>\n",
       "      <td>9b933a5cf2149d1338f00fb459d34a16b9b0f2e8d3e8e1ff859a7a9228bd6cad</td>\n",
       "      <td>1</td>\n",
       "    </tr>\n",
       "    <tr>\n",
       "      <td>84db0f17467cf4f02439e01ade57150b6ac59d9dae53edb2f43d68b0e55fb766</td>\n",
       "      <td>1</td>\n",
       "    </tr>\n",
       "    <tr>\n",
       "      <td>3d43e934e150b86be1e67524f5ba1018b27da9ef25566d9c0607623ae7f25e3a</td>\n",
       "      <td>1</td>\n",
       "    </tr>\n",
       "  </tbody>\n",
       "</table>\n",
       "<p>462298 rows × 1 columns</p>\n",
       "</div>"
      ],
      "text/plain": [
       "                                                    target\n",
       "id                                                        \n",
       "a6984c3ae395090e3bee8ad63c3758b110de096d5d81958...       1\n",
       "6178f41ade1365e44bc2c46654c2c8c0eaae27dcb476c47...       1\n",
       "4a7e5069a397f12fdd7fd57111d6dc5d3ba558958efc02e...       1\n",
       "3348900fe63216a439d2e5238c79ddd46ede454df7b9d8c...       1\n",
       "1f9bcabc9d3173c1fe769899e4fac14b053037b953a1e4b...       1\n",
       "...                                                    ...\n",
       "469ee5fc984d0bb60aa2f40cda4d003d7c9b963d149ed3b...       1\n",
       "656f496e7e2fad708f0022d8ad97d2cb9344e839a5f3cb6...       1\n",
       "9b933a5cf2149d1338f00fb459d34a16b9b0f2e8d3e8e1f...       1\n",
       "84db0f17467cf4f02439e01ade57150b6ac59d9dae53edb...       1\n",
       "3d43e934e150b86be1e67524f5ba1018b27da9ef25566d9...       1\n",
       "\n",
       "[462298 rows x 1 columns]"
      ]
     },
     "execution_count": 71,
     "metadata": {},
     "output_type": "execute_result"
    }
   ],
   "source": [
    "final_result['target'] = np.array(result)\n",
    "final_result"
   ]
  },
  {
   "cell_type": "code",
   "execution_count": 72,
   "metadata": {},
   "outputs": [
    {
     "data": {
      "text/plain": [
       "array([1, 2, 4, 3])"
      ]
     },
     "execution_count": 72,
     "metadata": {},
     "output_type": "execute_result"
    }
   ],
   "source": [
    "# validando se todos os valores foram inseridos corretamente\n",
    "final_result.target.unique()"
   ]
  },
  {
   "cell_type": "code",
   "execution_count": 73,
   "metadata": {},
   "outputs": [],
   "source": [
    "final_result.to_csv('result.csv')"
   ]
  }
 ],
 "metadata": {
  "kernelspec": {
   "display_name": "Python 3",
   "language": "python",
   "name": "python3"
  },
  "language_info": {
   "codemirror_mode": {
    "name": "ipython",
    "version": 3
   },
   "file_extension": ".py",
   "mimetype": "text/x-python",
   "name": "python",
   "nbconvert_exporter": "python",
   "pygments_lexer": "ipython3",
   "version": "3.7.3"
  }
 },
 "nbformat": 4,
 "nbformat_minor": 2
}
