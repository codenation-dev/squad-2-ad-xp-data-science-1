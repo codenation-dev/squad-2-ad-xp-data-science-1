{
 "cells": [
  {
   "cell_type": "code",
   "execution_count": 1,
   "metadata": {},
   "outputs": [],
   "source": [
    "import pandas as pd\n",
    "import numpy as np\n",
    "import seaborn as sns\n",
    "import matplotlib.pyplot as plt"
   ]
  },
  {
   "cell_type": "code",
   "execution_count": 2,
   "metadata": {},
   "outputs": [],
   "source": [
    "from sklearn.cluster import KMeans"
   ]
  },
  {
   "cell_type": "code",
   "execution_count": 12,
   "metadata": {},
   "outputs": [],
   "source": [
    "# importando datasets\n",
    "df_train = pd.read_csv(\"portfolio_ok.csv\", index_col='id')\n",
    "df_test  = pd.read_csv(\"marketok.csv\", index_col='id')"
   ]
  },
  {
   "cell_type": "markdown",
   "metadata": {},
   "source": [
    "## Kmeans de 40 clusters c/ data_portifolios - check n_clusters"
   ]
  },
  {
   "cell_type": "code",
   "execution_count": 14,
   "metadata": {},
   "outputs": [],
   "source": [
    "# Rodando o Kmeans com for para identificar o numero de clusters vs erro de classificação\n",
    "X_train = df_train\n",
    "y_test = df_train['target']"
   ]
  },
  {
   "cell_type": "code",
   "execution_count": 15,
   "metadata": {},
   "outputs": [],
   "source": [
    "error_rate = []\n",
    "\n",
    "for i in range(1,40):     # Levará algum tempo\n",
    "    \n",
    "    km1 = KMeans(n_clusters=i)\n",
    "    km1.fit(X_train)\n",
    "    pred_i = km1.predict(X_train)\n",
    "    error_rate.append(np.mean(pred_i != y_test))"
   ]
  },
  {
   "cell_type": "code",
   "execution_count": 16,
   "metadata": {},
   "outputs": [
    {
     "data": {
      "text/plain": [
       "Text(0, 0.5, 'Error Rate')"
      ]
     },
     "execution_count": 16,
     "metadata": {},
     "output_type": "execute_result"
    },
    {
     "data": {
      "image/png": "[encoded data removed]",
      "text/plain": [
       "<Figure size 720x432 with 1 Axes>"
      ]
     },
     "metadata": {
      "needs_background": "light"
     },
     "output_type": "display_data"
    }
   ],
   "source": [
    "plt.figure(figsize=(10,6))\n",
    "plt.plot(range(1,40),error_rate,color='blue', linestyle='dashed', marker='o', markerfacecolor='red', markersize=10)\n",
    "plt.title('Error Rate vs. K Value')\n",
    "plt.xlabel('K')\n",
    "plt.ylabel('Error Rate')"
   ]
  },
  {
   "cell_type": "markdown",
   "metadata": {},
   "source": [
    "### Defini-se a quantidade de clusters: 5"
   ]
  },
  {
   "cell_type": "markdown",
   "metadata": {},
   "source": [
    "## Kmeans com x clusters para solução final\n",
    "Escolhe-se o numero de Cluster e roda-se novamente o Kmeans para operação com o data_market"
   ]
  },
  {
   "cell_type": "code",
   "execution_count": 17,
   "metadata": {},
   "outputs": [],
   "source": [
    "km2 = KMeans(n_clusters=5)"
   ]
  },
  {
   "cell_type": "code",
   "execution_count": 18,
   "metadata": {},
   "outputs": [
    {
     "data": {
      "text/plain": [
       "KMeans(algorithm='auto', copy_x=True, init='k-means++', max_iter=300,\n",
       "       n_clusters=5, n_init=10, n_jobs=None, precompute_distances='auto',\n",
       "       random_state=None, tol=0.0001, verbose=0)"
      ]
     },
     "execution_count": 18,
     "metadata": {},
     "output_type": "execute_result"
    }
   ],
   "source": [
    "km2.fit(df_train)"
   ]
  },
  {
   "cell_type": "code",
   "execution_count": 26,
   "metadata": {},
   "outputs": [
    {
     "data": {
      "text/plain": [
       "462298"
      ]
     },
     "execution_count": 26,
     "metadata": {},
     "output_type": "execute_result"
    }
   ],
   "source": [
    "# acho que aqui é o resultado\n",
    "km2.predict(df_test)"
   ]
  },
  {
   "cell_type": "code",
   "execution_count": 20,
   "metadata": {},
   "outputs": [
    {
     "data": {
      "text/plain": [
       "array([[ 2.17241379e+00,  1.63620690e+01,  6.43965517e+00,\n",
       "         5.22413793e+00,  3.24137931e+00,  2.61206897e+00,\n",
       "         3.37931034e+00,  2.55172414e+00,  3.37931034e+00,\n",
       "        -9.91111606e-02, -5.88385520e-02, -7.08449409e-02,\n",
       "        -7.07064843e-02,  4.65517241e-01,  1.01220566e+00,\n",
       "         5.77586207e-01,  1.96551724e+00],\n",
       "       [ 5.36687631e+00,  4.67085954e+00,  9.81551363e+00,\n",
       "         5.63102725e+00,  2.89517820e+00,  2.78406709e+00,\n",
       "         3.30188679e+00,  2.16142558e+00,  3.30188679e+00,\n",
       "        -2.06410412e-02, -5.63070817e-02, -6.70443604e-02,\n",
       "        -4.34636310e-02,  6.39412998e-01,  7.97498370e-01,\n",
       "         1.48218029e+00,  1.69811321e+00],\n",
       "       [ 1.47669903e+01,  6.90291262e+00,  5.09708738e-01,\n",
       "         4.23786408e+00,  4.53398058e+00,  2.71844660e+00,\n",
       "         3.70873786e+00,  3.88349515e+00,  3.70873786e+00,\n",
       "         1.05364093e-01, -5.84422410e-02, -1.23326921e-01,\n",
       "        -4.94329755e-02,  4.17475728e-01,  2.36723598e+00,\n",
       "         2.99029126e+00,  2.84466019e+00],\n",
       "       [ 1.95120482e+01,  1.83975904e+01,  9.03012048e+00,\n",
       "         5.36144578e+00,  3.08433735e+00,  2.77108434e+00,\n",
       "         3.27108434e+00,  2.18674699e+00,  3.27108434e+00,\n",
       "         1.76886241e-02, -5.70927348e-02, -5.96305110e-02,\n",
       "        -5.85811757e-02,  7.34939759e-01,  7.69953808e-01,\n",
       "         4.75301205e+00,  1.73493976e+00],\n",
       "       [ 1.77539936e+01,  6.01277955e+00,  1.02236422e+01,\n",
       "         5.76357827e+00,  2.65814696e+00,  2.64856230e+00,\n",
       "         3.76677316e+00,  1.81469649e+00,  3.76677316e+00,\n",
       "         1.23664710e-02, -5.42998717e-02, -5.13232862e-02,\n",
       "        -3.12388712e-02,  7.82747604e-01,  5.02227737e-01,\n",
       "         3.58466454e+00,  1.47603834e+00]])"
      ]
     },
     "execution_count": 20,
     "metadata": {},
     "output_type": "execute_result"
    }
   ],
   "source": [
    "km2.cluster_centers_"
   ]
  },
  {
   "cell_type": "code",
   "execution_count": 25,
   "metadata": {},
   "outputs": [
    {
     "data": {
      "text/plain": [
       "1278"
      ]
     },
     "execution_count": 25,
     "metadata": {},
     "output_type": "execute_result"
    }
   ],
   "source": [
    "km2.labels_"
   ]
  }
 ],
 "metadata": {
  "kernelspec": {
   "display_name": "Python 3",
   "language": "python",
   "name": "python3"
  },
  "language_info": {
   "codemirror_mode": {
    "name": "ipython",
    "version": 3
   },
   "file_extension": ".py",
   "mimetype": "text/x-python",
   "name": "python",
   "nbconvert_exporter": "python",
   "pygments_lexer": "ipython3",
   "version": "3.7.3"
  }
 },
 "nbformat": 4,
 "nbformat_minor": 2
}
